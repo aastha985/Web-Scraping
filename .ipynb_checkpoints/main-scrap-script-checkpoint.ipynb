{
 "cells": [
  {
   "cell_type": "code",
   "execution_count": 1,
   "metadata": {},
   "outputs": [],
   "source": [
    "import requests\n",
    "from bs4 import BeautifulSoup\n",
    "import numpy as np\n",
    "import pandas as pd"
   ]
  },
  {
   "cell_type": "code",
   "execution_count": 2,
   "metadata": {},
   "outputs": [],
   "source": [
    "def most_popular_movies():\n",
    "    url=\"https://www.imdb.com/chart/moviemeter/?ref_=nv_mv_mpm\"\n",
    "    res = requests.get(url)\n",
    "    soup = BeautifulSoup(res.text)\n",
    "    movies=soup.find_all(\"tr\")\n",
    "    most_pop_movies=[]\n",
    "    for i in range(1,len(movies)):\n",
    "        movie=movies[i]\n",
    "        titleCol=movie.find_next(\"td\",attrs={\"class\":\"titleColumn\"}).text.strip().split(\"\\n\")\n",
    "        title=titleCol[0]\n",
    "        year=(int)(titleCol[1][1:-1])\n",
    "        rank=(int)(titleCol[2])\n",
    "        image=movie.find_next(\"img\").get(\"src\")\n",
    "        rating=(movie.find_next(\"td\",attrs={\"class\":\"ratingColumn\"}).text.strip())\n",
    "        if(rating!=\"\"):\n",
    "            rating=(float)(rating)\n",
    "        else:\n",
    "            rating=np.nan\n",
    "        movie={\n",
    "            \"title\":title,\n",
    "            \"year\":year,\n",
    "            \"rank\":rank,\n",
    "            \"IMDB Rating\":rating,\n",
    "            \"image\":image,\n",
    "        }\n",
    "        most_pop_movies.append(movie)\n",
    "    return most_pop_movies"
   ]
  },
  {
   "cell_type": "code",
   "execution_count": 3,
   "metadata": {},
   "outputs": [],
   "source": [
    "most_pop_movies=most_popular_movies()\n",
    "df=pd.DataFrame(most_pop_movies)\n",
    "df.to_csv(\"Most_Popular_Movies.csv\",index=None)"
   ]
  },
  {
   "cell_type": "code",
   "execution_count": 4,
   "metadata": {},
   "outputs": [],
   "source": [
    "def movies_by_genre(genre):\n",
    "    url=\"https://www.imdb.com/search/title/?genres={}&explore=title_type,genres&ref_=adv_explore_rhs\"\n",
    "    res=requests.get(url.format(genre))\n",
    "    soup=BeautifulSoup(res.text)\n",
    "    movies=soup.find_all(\"div\",attrs={\"class\":\"lister-item\"})\n",
    "    movies_by_genre=[]\n",
    "    for i in range(len(movies)):\n",
    "        movie=movies[i]\n",
    "        image=movie.find_next(\"img\").get(\"loadlate\")\n",
    "        header=movie.find_next(\"h3\",attrs=\"lister-item-header\")\n",
    "        title=header.find_next(\"a\").text\n",
    "        header.find_next(\"span\",attrs=\"lister-item-year\").text[1:-1]\n",
    "        facts=movie.find_next(\"p\",attrs=\"text-muted\")\n",
    "        runtime=facts.find_next(\"span\",attrs=\"runtime\").text.strip()\n",
    "        genre=facts.find_next(\"span\",attrs=\"genre\").text.strip()\n",
    "        certificate=facts.find_next(\"span\",attrs=\"certificate\")\n",
    "        if(certificate):\n",
    "            certificate=certificate.text.strip()\n",
    "        rating=float(movie.find_next(\"div\",attrs=\"ratings-imdb-rating\").text.strip())\n",
    "        metascore=movie.find_next(\"span\",attrs=\"metascore\")\n",
    "        if(metascore):\n",
    "            metascore=float(metascore.text.strip())\n",
    "        description=movie.find_all(\"p\",attrs=\"text-muted\")[1].text.strip()\n",
    "        stats=movie.find_next(\"p\",attrs=\"sort-num_votes-visible\").text.strip().split(\"\\n\")\n",
    "        votes=stats[1]\n",
    "        if len(stats)>3:\n",
    "            gross=stats[3]\n",
    "        else:\n",
    "            gross=np.nan\n",
    "        movie={\n",
    "            \"title\":title,\n",
    "            \"image\":image,\n",
    "            \"runtime\":runtime,\n",
    "            \"genre\":genre,\n",
    "            \"certificate\":certificate,\n",
    "            \"rating\":rating,\n",
    "            \"metascore\":metascore,\n",
    "            \"description\":description,\n",
    "            \"votes\":votes,\n",
    "            \"gross\":gross,\n",
    "        }\n",
    "        movies_by_genre.append(movie)\n",
    "    return movies_by_genre"
   ]
  },
  {
   "cell_type": "code",
   "execution_count": 5,
   "metadata": {},
   "outputs": [],
   "source": [
    "genres=[\"Musical\",\"Family\",\"Comedy\",\"Drama\",\"Romance\"]\n",
    "for i in genres:\n",
    "    movies_by_genre_arr=movies_by_genre(i)\n",
    "    df=pd.DataFrame(movies_by_genre_arr)\n",
    "    df.to_csv(\"Movies_\"+i+\".csv\",index=None)"
   ]
  }
 ],
 "metadata": {
  "kernelspec": {
   "display_name": "Python 3",
   "language": "python",
   "name": "python3"
  },
  "language_info": {
   "codemirror_mode": {
    "name": "ipython",
    "version": 3
   },
   "file_extension": ".py",
   "mimetype": "text/x-python",
   "name": "python",
   "nbconvert_exporter": "python",
   "pygments_lexer": "ipython3",
   "version": "3.7.7"
  }
 },
 "nbformat": 4,
 "nbformat_minor": 4
}
